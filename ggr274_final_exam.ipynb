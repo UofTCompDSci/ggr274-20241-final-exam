{
 "cells": [
  {
   "cell_type": "markdown",
   "id": "c52f8f2e",
   "metadata": {},
   "source": [
    "<div style=\"text-align: center\">\n",
    "\n",
    "**UNIVERSITY OF TORONTO**\n",
    "\n",
    "**Faculty of Arts & Science**\n",
    "\n",
    "**WINTER 2024 EXAMINATIONS**\n",
    "\n",
    "**GGR274H1S - Introductory Computation and Data Science for the Social Sciences**\n",
    "\n",
    "**Duration**: 3 hours\n",
    "\n",
    "**Aids Allowed**: You have access to the GGR274 Course Website, JupyterHub, and MarkUs. You may not consult any other references.\n",
    "\n",
    "</div>\n",
    "\n",
    "## Exam Reminders\n",
    "\n",
    "- As a student, you help create a fair and inclusive writing environment. If you possess an unauthorized aid during an exam, you may be charged with an academic offence.\n",
    "- Turn off and place all cell phones, smart watches, electronic devices, and unauthorized study materials in your bag under your desk. If it is left in your pocket, it may be an academic offence.\n",
    "- When you are done your exam, download the file and submit it to [MarkUs](https://markus-ds.teach.cs.toronto.edu) under the `final-exam` assignment. We have included submission instructions at the bottom of this notebook (same as past course work).\n",
    "    - **Note**: *Please give yourself at least 10 minutes to submit the final exam on time.*\n",
    "- All answers should be written in the provided cells in this notebook. You will *only* submit this notebook on MarkUs.\n",
    "\n",
    "## Quick Links\n",
    "\n",
    "- [GGR274 Course Website](https://uoftcompdsci.github.io/ggr274-20241/jupyter-book/index.html)\n",
    "- [MarkUs](https://markus-ds.teach.cs.toronto.edu)\n",
    "- [JupyterHub](https://jupyter.utoronto.ca)\n",
    "\n",
    "\n",
    "## Marking Rubric\n",
    "\n",
    "Your Python code will be evaluated using autograding.\n",
    "Written responses will be graded by TAs.\n",
    "\n",
    "__The total number of marks for this test is 70.__"
   ]
  },
  {
   "cell_type": "markdown",
   "id": "2a7f1f7b",
   "metadata": {},
   "source": [
    "## Questions\n",
    "\n",
    "Below is an outline of the questions that you will answer in this final exam.  \n",
    "\n",
    "For your convenience you can keep track of which questions you have answered by ticking off the boxes by adding an `x` in between the square brackets `[  ]`.\n",
    "\n",
    "```\n",
    "- [ ] \n",
    "- [x] \n",
    "```\n",
    "The above Markdown will render like this\n",
    "\n",
    "- [ ] \n",
    "- [x] \n",
    "\n",
    " <mark> **Check marks are not required for full marks. This is to help you stay organized during the test, but please feel free to ignore this if you wish.** </mark>\n",
    " \n",
    "\n",
    "## List of Questions in this Test\n",
    "\n",
    "Below are hyperlinks to individual test questions. A hyperlink back to this section is provided at the end of most questions. \n",
    " \n",
    "[Part 1: Python Programming](#Part-1:-Python-Programming) (__15 marks__)\n",
    "\n",
    "- [ ] [Q1.1](#Q1.1) (__3 mark__)\n",
    "- [ ] [Q1.2](#Q1.2) (__6 marks__)\n",
    "- [ ] [Q1.3](#Q1.3) (__6 marks__)\n",
    "\n",
    "[Part 2: Data Wrangling and Exploration](#Part-2:-Data-Wrangling-and-Exploration) (__30 marks__)\n",
    "\n",
    "- [ ] [Q2.1.1](#Q2.1.1) (__2 marks__)\n",
    "- [ ] [Q2.1.2](#Q2.1.2) (__1 mark__)\n",
    "- [ ] [Q2.1.3](#Q2.1.3) (__2 marks__)\n",
    "- [ ] [Q2.1.4](#Q2.1.4) (__2 marks__)\n",
    "- [ ] [Q2.1.5](#Q2.1.5) (__1 mark__)\n",
    "- [ ] [Q2.1.6](#Q2.1.6) (__2 marks__)\n",
    "- [ ] [Q2.2.1](#Q2.2.1) (__1 mark__)\n",
    "- [ ] [Q2.2.2](#Q2.2.2) (__2 marks__)\n",
    "- [ ] [Q2.2.3](#Q2.2.3) (__1 mark__)\n",
    "- [ ] [Q2.2.4](#Q2.2.4) (__1 mark__)\n",
    "- [ ] [Q2.2.5](#Q2.2.5) (__1 mark__)\n",
    "- [ ] [Q2.3.1](#Q2.3.1) (__2 marks__)\n",
    "- [ ] [Q2.3.2](#Q2.3.2) (__2 marks__)\n",
    "- [ ] [Q2.3.3](#Q2.3.3) (__2 marks__)\n",
    "- [ ] [Q2.4.1](#Q2.4.1) (__2 marks__)\n",
    "- [ ] [Q2.4.2](#Q2.4.2) (__1 marks__)\n",
    "- [ ] [Q2.4.3](#Q2.4.3) (__2 marks__)\n",
    "- [ ] [Q2.4.4](#Q2.4.4) (__3 marks__)\n",
    "\n",
    "[Part 3: Spatial Analysis](#Part-3:-Spatial-Analysis) (__25 marks__)\n",
    "\n",
    "- [ ] [Q3.1](#Q3.1) (__3 marks__)\n",
    "- [ ] [Q3.2](#Q3.2) (__2 marks__)\n",
    "- [ ] [Q3.3](#Q3.3) (__3 marks__)\n",
    "- [ ] [Q3.4](#Q3.4) (__1 mark__)\n",
    "- [ ] [Q3.5](#Q3.5) (__1 mark__)\n",
    "- [ ] [Q3.6](#Q3.6) (__2 marks__)\n",
    "- [ ] [Q3.7](#Q3.7) (__3 marks__)\n",
    "- [ ] [Q3.8](#Q3.8) (__2 marks__)\n",
    "- [ ] [Q3.9.1](#Q3.9.1) (__2 marks__)\n",
    "- [ ] [Q3.9.2](#Q3.9.2) (__3 marks__)\n",
    "- [ ] [Q3.9.3](#Q3.9.3) (__1 mark__)\n",
    "- [ ] [Q3.10.1](#Q3.10.1) (__1 mark__)\n",
    "- [ ] [Q3.10.2](#Q3.10.2) (__1 mark__)"
   ]
  },
  {
   "cell_type": "markdown",
   "id": "90980eba",
   "metadata": {},
   "source": [
    "## Part 1: Python Programming\n",
    "\n",
    "Part 1 has 15 marks in total.\n",
    "\n",
    "In this part, you'll complete a few questions covering the basics of Python programming.\n",
    "\n",
    "Help for all the built-in Python functions are available via the `help` function.  For example, help for the function `len` is below.\n"
   ]
  },
  {
   "cell_type": "code",
   "execution_count": null,
   "id": "a7a1443c",
   "metadata": {},
   "outputs": [],
   "source": [
    "# Uncomment the line below to see help for the len function\n",
    "# help(len)"
   ]
  },
  {
   "cell_type": "markdown",
   "id": "9fd828c9",
   "metadata": {},
   "source": [
    "### Q1.1\n",
    "\n",
    "Define the `student_number` variable below to be an `int` that equals your student number."
   ]
  },
  {
   "cell_type": "code",
   "execution_count": null,
   "id": "17347134",
   "metadata": {},
   "outputs": [],
   "source": [
    "# Write your code here\n",
    "student_number = ..."
   ]
  },
  {
   "cell_type": "markdown",
   "id": "3a684c1f",
   "metadata": {},
   "source": [
    "### Q1.2\n",
    "\n",
    "You are given the following list of Canadian city names."
   ]
  },
  {
   "cell_type": "code",
   "execution_count": null,
   "id": "d870e6ab",
   "metadata": {},
   "outputs": [],
   "source": [
    "# Run the cell, but do not change it\n",
    "cities = [\n",
    "    'Barrie',\n",
    "    'Belleville',\n",
    "    'Brampton',\n",
    "    'Brant',\n",
    "    'Brantford',\n",
    "    'Brockville',\n",
    "    'Burlington',\n",
    "    'Cambridge',\n",
    "    'Clarence-Rockland',\n",
    "    'Cornwall',\n",
    "    'Dryden',\n",
    "    'Elliot Lake',\n",
    "    'Greater Sudbury',\n",
    "    'Guelph',\n",
    "    'Haldimand County',\n",
    "    'Hamilton',\n",
    "    'Kawartha Lakes',\n",
    "    'Kenora',\n",
    "    'Kingston',\n",
    "    'Kitchener',\n",
    "    'London',\n",
    "    'Markham',\n",
    "    'Mississauga',\n",
    "    'Niagara Falls',\n",
    "    'Norfolk County',\n",
    "    'North Bay',\n",
    "    'Orillia',\n",
    "    'Oshawa',\n",
    "    'Ottawa',\n",
    "    'Owen Sound',\n",
    "    'Pembroke',\n",
    "    'Peterborough',\n",
    "    'Pickering',\n",
    "    'Port Colborne',\n",
    "    'Prince Edward County',\n",
    "    'Quinte West',\n",
    "    'Richmond Hill',\n",
    "    'Sarnia',\n",
    "    'Sault Ste. Marie',\n",
    "    'St. Catharines',\n",
    "    'St. Thomas',\n",
    "    'Stratford',\n",
    "    'Temiskaming Shores',\n",
    "    'Thorold',\n",
    "    'Thunder Bay',\n",
    "    'Timmins',\n",
    "    'Toronto',\n",
    "    'Vaughan',\n",
    "    'Waterloo',\n",
    "    'Welland',\n",
    "    'Windsor',\n",
    "    'Woodstock'\n",
    "]"
   ]
  },
  {
   "cell_type": "markdown",
   "id": "47283f6a",
   "metadata": {},
   "source": [
    "a. Calculate the number of cities in the list and store it in a variable called `num_cities`."
   ]
  },
  {
   "cell_type": "code",
   "execution_count": null,
   "id": "3957f480",
   "metadata": {},
   "outputs": [],
   "source": [
    "# Write your code here\n"
   ]
  },
  {
   "cell_type": "markdown",
   "id": "f482b836",
   "metadata": {},
   "source": [
    "b. Create an empty list called `city_lengths`. Using a `for` loop, iterate over `cities`, calculate the length of each city name, and append each length to `city_lengths`."
   ]
  },
  {
   "cell_type": "code",
   "execution_count": null,
   "id": "2f4a77ea",
   "metadata": {},
   "outputs": [],
   "source": [
    "# Write your code here\n"
   ]
  },
  {
   "cell_type": "markdown",
   "id": "3cf011e2",
   "metadata": {},
   "source": [
    "c. Using a similar approach as (b), create a list of the city names from `cities` that contain at least 10 characters (including any spaces and punctuation marks). Store the result in a variable calls `long_cities`."
   ]
  },
  {
   "cell_type": "code",
   "execution_count": null,
   "id": "32a6e6ec",
   "metadata": {},
   "outputs": [],
   "source": [
    "# Write your code here\n"
   ]
  },
  {
   "cell_type": "markdown",
   "id": "b85a651c",
   "metadata": {},
   "source": [
    "### Q1.3\n",
    "\n",
    "a. Define the term **variable** and give an example of a variable from Question 1 or 2 above."
   ]
  },
  {
   "cell_type": "markdown",
   "id": "0ba0665a",
   "metadata": {},
   "source": [
    "*Write your answer here.*"
   ]
  },
  {
   "cell_type": "markdown",
   "id": "327195cb",
   "metadata": {},
   "source": [
    "b. Write an example of an **f-string** in the code cell below. You may write other code for your example, but clearly indicate (with a comment) what part of your code is the f-string."
   ]
  },
  {
   "cell_type": "code",
   "execution_count": null,
   "id": "8b9092ed",
   "metadata": {},
   "outputs": [],
   "source": [
    "# Write your example here\n"
   ]
  },
  {
   "cell_type": "markdown",
   "id": "f42f0e1d",
   "metadata": {},
   "source": [
    "c. You are given the following code cell."
   ]
  },
  {
   "cell_type": "code",
   "execution_count": null,
   "id": "b5064286",
   "metadata": {},
   "outputs": [],
   "source": [
    "# Run the cell, but do not change it\n",
    "mystery = {}\n",
    "\n",
    "for name in ['Michael', 'Nathan', 'David']:\n",
    "    mystery[name] = name.count('a')\n",
    "\n",
    "mystery"
   ]
  },
  {
   "cell_type": "markdown",
   "id": "e577b332",
   "metadata": {},
   "source": [
    "Answer the following two questions:\n",
    "\n",
    "1. What is the data type of `mystery`?\n",
    "2. Describe in English what the above code cell is computing."
   ]
  },
  {
   "cell_type": "markdown",
   "id": "4e3889c5",
   "metadata": {},
   "source": [
    "*Write your answer here.*"
   ]
  },
  {
   "cell_type": "markdown",
   "id": "27c2a6a3",
   "metadata": {},
   "source": [
    "## Part 2: Data Wrangling and Exploration\n",
    "\n",
    "Part 2 has 30 marks in total.\n",
    "\n",
    "To begin, run the following cell, which imports the Python libraries you'll need for the rest of this exam."
   ]
  },
  {
   "cell_type": "code",
   "execution_count": null,
   "id": "3921b678",
   "metadata": {},
   "outputs": [],
   "source": [
    "import esda\n",
    "import geopandas as gpd\n",
    "import libpysal as lps\n",
    "import matplotlib.pyplot as plt\n",
    "import numpy as np\n",
    "import pandas as pd\n",
    "import splot.esda\n",
    "\n",
    "from statsmodels.formula.api import ols"
   ]
  },
  {
   "cell_type": "markdown",
   "id": "d9961b8c",
   "metadata": {},
   "source": [
    "**Reminder:** The `help` function is also available for almost all of the functions we have used in the libraries above.  For example, here is how to get help on the pandas function `read_excel`."
   ]
  },
  {
   "cell_type": "code",
   "execution_count": null,
   "id": "689c2aea",
   "metadata": {},
   "outputs": [],
   "source": [
    "# Uncomment to see help on pd.read_excel\n",
    "# help(pd.read_excel)"
   ]
  },
  {
   "cell_type": "markdown",
   "id": "5e7ab46c",
   "metadata": {},
   "source": [
    "### Q2.1.1\n",
    "\n",
    "Children and youth average annual rate (/100) of injuries for 2014/15 to 2015/16 (All Admissions and Emergency Department (ED) visits) in Toronto Neighbourhoods data are in the Excel file `ChildrenAndYouth_neighb_2015_LHIN.xls` in the sheet `CAY_Injury_AllAdm_EDv`.  \n",
    "\n",
    "Complete the code cell below by filling in the `...` to read in the aforementioned sheet in the Excel file into a pandas `DataFrame` and store it in the variable `cay_raw_df`."
   ]
  },
  {
   "cell_type": "code",
   "execution_count": null,
   "id": "f01eb561",
   "metadata": {},
   "outputs": [],
   "source": [
    "# Write your code here\n",
    "cay_file_name = ...\n",
    "\n",
    "cay_injury_sheet_name = ...\n",
    "\n",
    "cay_raw_df = pd.read_excel(..., ..., header=14)\n",
    "\n",
    "# Display the first few rows of the resulting DataFrame\n",
    "cay_raw_df.head()"
   ]
  },
  {
   "cell_type": "markdown",
   "id": "fdf15068",
   "metadata": {},
   "source": [
    "### Q2.1.2\n",
    "\n",
    "Create a subset of `cay_raw_df` with columns stored in `important_columns` as defined below. Store the subset in a `DataFrame` named `cay_raw_subset`."
   ]
  },
  {
   "cell_type": "code",
   "execution_count": null,
   "id": "3faa111c",
   "metadata": {},
   "outputs": [],
   "source": [
    "important_columns = [\n",
    "    'Unnamed: 0', \n",
    "    'Unnamed: 1', \n",
    "    'Both sexes.6', \n",
    "    'Both sexes.9', \n",
    "    'Both sexes.12',\n",
    "    'Both sexes.15']\n",
    "\n",
    "# Write your code here\n",
    "cay_raw_subset = ..."
   ]
  },
  {
   "cell_type": "markdown",
   "id": "f7c6bc99",
   "metadata": {},
   "source": [
    "### Q2.1.3\n",
    "\n",
    "Next, you will rename column names in `important_columns` to the following (in order of the column names in `important_columns`):\n",
    "\n",
    "- Neighbourhood ID\n",
    "- Neighbourhood Name\n",
    "- Average Injury Rate, Age 0-4\n",
    "- Average Injury Rate, Age 5-9\n",
    "- Average Injury Rate, Age 10-14\n",
    "- Average Injury Rate, Age 15-24\n",
    "\n",
    "Create a dictionary called `new_column_names` that maps the column names in `important_columns` of `cay_raw_subset` to the column names above.  Store the `DataFrame` with the new column names in `cay_renamed_df`."
   ]
  },
  {
   "cell_type": "code",
   "execution_count": null,
   "id": "a75d49ab",
   "metadata": {},
   "outputs": [],
   "source": [
    "# Write your code here\n"
   ]
  },
  {
   "cell_type": "markdown",
   "id": "9860d2cf",
   "metadata": {},
   "source": [
    "### Q2.1.4\n",
    "\n",
    "Run the following code to select the rows with neighbourhood records only and store the result in `cay_df`."
   ]
  },
  {
   "cell_type": "code",
   "execution_count": null,
   "id": "10fbf294",
   "metadata": {},
   "outputs": [],
   "source": [
    "# Run this code. You may not change the provided code, but may\n",
    "# add additional lines to display values (e.g., cay_renamed_df and cay_df).\n",
    "cay_df = cay_renamed_df.iloc[0:140, 0:6]"
   ]
  },
  {
   "cell_type": "markdown",
   "id": "6fc280fb",
   "metadata": {},
   "source": [
    "**Task:** Describe the distributions of all the annual average rates of injuries for each age group in `cay_df` using the `DataFrame.describe()` method.  Store the result in a variable called `dist_descriptions`."
   ]
  },
  {
   "cell_type": "code",
   "execution_count": null,
   "id": "c4841650",
   "metadata": {},
   "outputs": [],
   "source": [
    "# Write your code here\n"
   ]
  },
  {
   "cell_type": "markdown",
   "id": "6bf479e1",
   "metadata": {},
   "source": [
    "**Task:** We have provided code to define `dist_descriptions2` using `dist_descriptions` from the previous cell. Using `dist_descriptions2`, compute the inter-quartile ranges for each age group (as a `Series` of numbers), and store the results in a variable called `injury_iqr`."
   ]
  },
  {
   "cell_type": "code",
   "execution_count": null,
   "id": "4dc6260f",
   "metadata": {},
   "outputs": [],
   "source": [
    "# This code is provided for you; please do not modify it.\n",
    "dist_descriptions2 = dist_descriptions.transpose()\n",
    "display(dist_descriptions2)\n",
    "\n",
    "# Write your code here\n"
   ]
  },
  {
   "cell_type": "markdown",
   "id": "992571d8",
   "metadata": {},
   "source": [
    "**Question:** Which age group's average injury rate has the largest variability?  Briefly explain."
   ]
  },
  {
   "cell_type": "markdown",
   "id": "88f65fd3",
   "metadata": {},
   "source": [
    "*Write your answer here.*\n"
   ]
  },
  {
   "cell_type": "markdown",
   "id": "3e969a1f",
   "metadata": {},
   "source": [
    "### Q2.1.5\n",
    "\n",
    "Create side-by-side boxplots of the distributions of the annual average rates of injuries for each age group in `cay_df` using the `DataFrame.boxplot()` method.  Plot the boxplots horizontally using `vert=False` argument inside the method.\n",
    "You do *not* need to store the result in a variable."
   ]
  },
  {
   "cell_type": "code",
   "execution_count": null,
   "id": "abc4effb",
   "metadata": {},
   "outputs": [],
   "source": [
    "# Write your code here\n"
   ]
  },
  {
   "cell_type": "markdown",
   "id": "45922959",
   "metadata": {},
   "source": [
    "### Q2.1.6\n",
    "\n",
    "i) Which age group has the highest **minimum** injury rate?\n",
    "\n",
    "ii) What is the name of the neighbourhood with the higest minimum injury rates? Briefly explain how you obtained your answer.  (*Note*: you are welcome to create a new code cell below to help you answer this question, but it will not be graded.)"
   ]
  },
  {
   "cell_type": "markdown",
   "id": "8072ad1e",
   "metadata": {},
   "source": [
    "*Write your answer here.*\n"
   ]
  },
  {
   "cell_type": "code",
   "execution_count": null,
   "id": "d6232383",
   "metadata": {},
   "outputs": [],
   "source": [
    "# Optional: write your helper code here\n"
   ]
  },
  {
   "cell_type": "markdown",
   "id": "8e34787b",
   "metadata": {},
   "source": [
    "### Q2.2.1\n",
    "\n",
    "`neighbourhood-profiles-2011-140-model.csv` is a csv file that contains socio-demographic data on Toronto neighbourhoods.  A brief description of the data from the City of Toronto is:\n",
    "\n",
    "> The Census of Population is held across Canada every 5 years and collects data about age and sex, families and households, language, immigration and internal migration, ethnocultural diversity, Aboriginal peoples, housing, education, income, and labour. City of Toronto Neighbourhood Profiles use this Census data to provide a portrait of the demographic, social and economic characteristics of the people and households in each City of Toronto neighbourhood. The profiles present selected highlights from the data, but these accompanying data files provide the full data set assembled for each neighbourhood.\n",
    "\n",
    "\n",
    "**Task:**  Read this file into a pandas `DataFrame` called `nbhdprofiles_df`."
   ]
  },
  {
   "cell_type": "code",
   "execution_count": null,
   "id": "8cf2f897",
   "metadata": {},
   "outputs": [],
   "source": [
    "# Write your code here\n"
   ]
  },
  {
   "cell_type": "markdown",
   "id": "78940379",
   "metadata": {},
   "source": [
    "### Q2.2.2\n",
    "\n",
    "The pandas function `pd.melt` can be used to reshape `nbhdprofiles_df`.  The code cell below uses `melt` to reshape `nbhdprofiles_df` into `nbhdprofmelt_df`.\n",
    "\n",
    "**Task:** Run the code cell below to create the variable `nbhdprofmelt_df`."
   ]
  },
  {
   "cell_type": "code",
   "execution_count": null,
   "id": "a8f644a5",
   "metadata": {},
   "outputs": [],
   "source": [
    "# Run this cell but do not modify it\n",
    "nbhdprofmelt_df = pd.melt(nbhdprofiles_df, id_vars=['_id','Category', 'Topic', 'Attribute'])\n",
    "\n",
    "nbhdprofmelt_df.tail()"
   ]
  },
  {
   "cell_type": "markdown",
   "id": "733384bb",
   "metadata": {},
   "source": [
    "Next, you will create a new `DataFrame` that corresponds to Median After-Tax Family Income by selecting rows of `nbhdprofmelt_df` where *all* of the following conditions are true:\n",
    "\n",
    "- `Category` is equal to `\"Income\"`\n",
    "- `Topic` is equal to `\"Income of families\"`\n",
    "- `Attribute` is equal to `\"  Median after-tax family income $\"`\n",
    "\n",
    "You will create this `DataFrame` in two parts.\n",
    "\n",
    "a) Select rows of `nbhdprofmelt_df` where\n",
    "\n",
    "- `Category` is equal to `Income`\n",
    "- `Topic` is equal to `Income of families`\n",
    "\n",
    "store this `DataFrame` in a variable called `income_df1`."
   ]
  },
  {
   "cell_type": "code",
   "execution_count": null,
   "id": "8128ff2d",
   "metadata": {},
   "outputs": [],
   "source": [
    "# Write your code here\n"
   ]
  },
  {
   "cell_type": "markdown",
   "id": "a5d8de6f",
   "metadata": {},
   "source": [
    "b) Select rows of `income_df1` where `Attribute` is equal to `\"  Median after-tax family income $\"` and store this DataFrame in `income_df2`. *Note*: the string value has two leading spaces, since those come with the original dataset. Make sure to include the spaces in your code!"
   ]
  },
  {
   "cell_type": "code",
   "execution_count": null,
   "id": "b6de6458",
   "metadata": {},
   "outputs": [],
   "source": [
    "# Write your code here\n"
   ]
  },
  {
   "cell_type": "markdown",
   "id": "7741e3d5",
   "metadata": {},
   "source": [
    "### Q2.2.3\n",
    "\n",
    "In `income_df2` rename the `variable` column to `Neighbourhood Name` and `value` to `Income`. Store the renamed `DataFrame` in `income_df3`."
   ]
  },
  {
   "cell_type": "code",
   "execution_count": null,
   "id": "51c7a839",
   "metadata": {},
   "outputs": [],
   "source": [
    "# Write your code here\n"
   ]
  },
  {
   "cell_type": "markdown",
   "id": "ca6b14bb",
   "metadata": {},
   "source": [
    "### Q2.2.4\n",
    "\n",
    "Extract the median income for the neighbourhood called `City of Toronto` from `income_df3` using `.iloc` or .`loc` (i.e, do not hard-code this value).\n",
    "Store the result in a variable called `toronto_median_income`."
   ]
  },
  {
   "cell_type": "code",
   "execution_count": null,
   "id": "f177cb26",
   "metadata": {},
   "outputs": [],
   "source": [
    "# Write your code here\n"
   ]
  },
  {
   "cell_type": "markdown",
   "id": "558bcc25",
   "metadata": {},
   "source": [
    "### Q2.2.5\n",
    "\n",
    "Remove the row of `income_df3` that corresponds to `Neighbourhood Name` equal to `City of Toronto` and store the resulting `DataFrame` in `income_df4`."
   ]
  },
  {
   "cell_type": "code",
   "execution_count": null,
   "id": "89742578",
   "metadata": {},
   "outputs": [],
   "source": [
    "# Write your code here\n"
   ]
  },
  {
   "cell_type": "markdown",
   "id": "f56d325e",
   "metadata": {},
   "source": [
    "### Q2.3.1\n",
    "\n",
    "In this part you are going to merge `cay_df` (the `DataFrame` from Q1 that contains data on youth injury rates) and `income_df4` (the `DataFrame` from Q2 that contains data on family income) for Toronto's neighbourhoods.\n",
    "\n",
    "**Task:** merge `cay_df` and `income_df4` on `Neighbourhood Name` and store the merged `DataFrame` in `cay_inc_df`."
   ]
  },
  {
   "cell_type": "code",
   "execution_count": null,
   "id": "fd3cb34f",
   "metadata": {},
   "outputs": [],
   "source": [
    "# Write your code here\n"
   ]
  },
  {
   "cell_type": "markdown",
   "id": "e71dc7d7",
   "metadata": {},
   "source": [
    "### Q2.3.2\n",
    "\n",
    "Create a Boolean column in `cay_inc_df` called `Below Median`. The value should be `True` when a neighbourhood's income is __less than or equal to__ the median income of the City of Toronto (`toronto_median_income`), and `False` otherwise."
   ]
  },
  {
   "cell_type": "code",
   "execution_count": null,
   "id": "b9657698",
   "metadata": {},
   "outputs": [],
   "source": [
    "# Write your code here\n"
   ]
  },
  {
   "cell_type": "markdown",
   "id": "a1a0a0d7",
   "metadata": {},
   "source": [
    "### Q2.3.3\n",
    "\n",
    "i) Compute the median neighbourhood average injury rates for the age group between 10-14 (`\"Average Injury Rate, Age 10-14\"`) for neighbourhoods above and below the median income for the City of Toronto using the `groupby` and `median` functions on `cay_inc_df`.  Store the result in `injury_rates`."
   ]
  },
  {
   "cell_type": "code",
   "execution_count": null,
   "id": "6e72e43e",
   "metadata": {},
   "outputs": [],
   "source": [
    "# Write your code here\n"
   ]
  },
  {
   "cell_type": "markdown",
   "id": "b6fc15d4",
   "metadata": {},
   "source": [
    "ii) Use `injury_rates` to compute the difference in average injury rates for youths aged between 10-14 in neighbourhoods **above** the median income of the City of Toronto **minus** neighbourhoods **below** the median income of the City of Toronto.  Store this value in `obs_diff`."
   ]
  },
  {
   "cell_type": "code",
   "execution_count": null,
   "id": "9694cd20",
   "metadata": {},
   "outputs": [],
   "source": [
    "# Write your code here\n"
   ]
  },
  {
   "cell_type": "markdown",
   "id": "a8b610ad",
   "metadata": {},
   "source": [
    "### Q2.4.1\n",
    "\n",
    "In this part you will assess if the observed difference in injury rates might be due to chance.  \n",
    "\n",
    "Fill in `...` so that the function `sim_median_diff` simulates a difference in the medians of the column named `injury_column` for neighbourhoods **above** Toronto's median income **minus** that of those with **below** the median income."
   ]
  },
  {
   "cell_type": "code",
   "execution_count": null,
   "id": "caa65694",
   "metadata": {},
   "outputs": [],
   "source": [
    "# Change ... to the correct code. Do not modify other parts of this cell\n",
    "\n",
    "def sim_median_diff(n, injury_column):\n",
    "    np.random.seed(int(str(student_number)[-3::]))\n",
    "\n",
    "    diffs = ...\n",
    "\n",
    "    for _ in range(n):\n",
    "        median_shuffle = cay_inc_df[...].sample(frac=1).reset_index(drop=True)\n",
    "        injury_column_below_med = cay_inc_df.loc[median_shuffle == True, injury_column].median()\n",
    "        injury_column_above_med = cay_inc_df.loc[median_shuffle == False, injury_column].median()\n",
    "        shuffled_diff = ...\n",
    "        diffs.append(shuffled_diff)\n",
    "\n",
    "    return diffs"
   ]
  },
  {
   "cell_type": "markdown",
   "id": "afd74300",
   "metadata": {},
   "source": [
    "### Q2.4.2\n",
    "\n",
    "Use the `sim_median_diff` function to simulate 1000 median differences in average injuries for youths between 10 - 14, between neighbourhoods above and below the median income for the City of Toronto.  Store these differences in a variable called `simulated_median_diffs`."
   ]
  },
  {
   "cell_type": "code",
   "execution_count": null,
   "id": "e327fbfd",
   "metadata": {},
   "outputs": [],
   "source": [
    "# Write your code here\n"
   ]
  },
  {
   "cell_type": "markdown",
   "id": "d7ee1fa0",
   "metadata": {},
   "source": [
    "### Q2.4.3\n",
    "\n",
    "In this question you will create a histogram of the simulated values you computed in the previous part.\n",
    "\n",
    "i) Use the `matplotlib.pyplot` `hist` function to create a histogram of `simulated_median_diffs`.  \n",
    "\n",
    "ii) Label the x-axis `Simulated Median Difference of Injury Rates, Ages 10-14` and the y-axis as `Frequency`.\n",
    "\n",
    "iii) Add a green vertical line to the plot that starts at the x-value of the observed median difference of injury rates for 10-14, and another green vertical line that starts at `-1` times the observed median difference of injury rates for 10-14.\n",
    "\n",
    "*Note*: You do not need to store the plot in a variable."
   ]
  },
  {
   "cell_type": "code",
   "execution_count": null,
   "id": "d8ec238d",
   "metadata": {},
   "outputs": [],
   "source": [
    "# Write your code here\n"
   ]
  },
  {
   "cell_type": "markdown",
   "id": "6e0b19f0",
   "metadata": {},
   "source": [
    "### Q2.4.4\n",
    "\n",
    "i) What is the null hypothesis that `sim_median_diff` is testing?\n",
    "\n",
    "ii) What information does the histogram convey about the null hypothesis?  Briefly explain what the histogram shows.\n",
    "\n",
    "iii) What do you conclude about the null hypothesis?  Briefly explain if the observed median difference is might be due to chance?"
   ]
  },
  {
   "cell_type": "markdown",
   "id": "64ed215f",
   "metadata": {},
   "source": [
    "*Write your answer here.*\n"
   ]
  },
  {
   "cell_type": "markdown",
   "id": "9801592f",
   "metadata": {},
   "source": [
    "## Part 3: Spatial Analysis\n",
    "\n",
    "Part 3 has 25 marks in total.\n",
    "\n",
    "In this section we will use Toronto Neighbourhood Crime data in 2024 to complete some tasks relating to spatial clustering, regression, and bootstrap sampling."
   ]
  },
  {
   "cell_type": "markdown",
   "id": "31eb1c17",
   "metadata": {},
   "source": [
    "### Q3.1\n",
    "\n",
    "Load the geojson file `Neighbourhood_Crime_Rates.geojson.geojson` into Python as a `GeoDataFrame`. Store it in a variable named `toronto_crime_2024`.\n"
   ]
  },
  {
   "cell_type": "code",
   "execution_count": null,
   "id": "20356f97",
   "metadata": {},
   "outputs": [],
   "source": [
    "# Write your code here\n"
   ]
  },
  {
   "cell_type": "markdown",
   "id": "139b8395",
   "metadata": {},
   "source": [
    "### Q3.2\n",
    "\n",
    "Describe in a sentence or two what information is contained in the column titled `geometry` in `toronto_crime_2024`.\n",
    "\n",
    "*Hint*: use the `head()` method to inspect the contents of the `GeoDataFrame`."
   ]
  },
  {
   "cell_type": "markdown",
   "id": "9d6d8727",
   "metadata": {},
   "source": [
    "*Write your answer here.*"
   ]
  },
  {
   "cell_type": "markdown",
   "id": "9ab468bd",
   "metadata": {},
   "source": [
    "### Q3.3\n",
    "\n",
    "Create a map with the following requirements:\n",
    "\n",
    "- Use `fig` and `axes` objects to define a \"1x1\" map with a `figsize=(12, 12)`\n",
    "- Shows the number of assults for 2023 by neighbourhood classified using 5 quantiles\n",
    "    - *Note*: the numbers of assult for 2023 are stored in the column `ASSAULT_2023`\n",
    "- Add an `edgecolor` that is `grey`\n",
    "- Includes a legend with `legend_kwds={'loc': 4, 'title': 'Number of Assults', 'title_fontsize': 16, 'fontsize': 12}`\n",
    "- Uses a `cmap` of `Greys`\n",
    "\n",
    "Store the map in a variable called `my_q5_map`."
   ]
  },
  {
   "cell_type": "code",
   "execution_count": null,
   "id": "75880550",
   "metadata": {},
   "outputs": [],
   "source": [
    "# Write your code here\n"
   ]
  },
  {
   "cell_type": "markdown",
   "id": "2d538997",
   "metadata": {},
   "source": [
    "### Q3.4\n",
    "\n",
    "If you wanted to add a second map to the right of this map, what steps would you need to take?"
   ]
  },
  {
   "cell_type": "markdown",
   "id": "1a220dcf",
   "metadata": {},
   "source": [
    "*Write your answer here.*"
   ]
  },
  {
   "cell_type": "markdown",
   "id": "69891c0e",
   "metadata": {},
   "source": [
    "### Q3.5\n",
    "\n",
    "Briefly explain what does the following code does."
   ]
  },
  {
   "cell_type": "code",
   "execution_count": null,
   "id": "836b85e5",
   "metadata": {},
   "outputs": [],
   "source": [
    "# Run this code cell, but do NOT modify it.\n",
    "w = lps.weights.Queen.from_dataframe(toronto_crime_2024)\n",
    "w.transform = 'R'"
   ]
  },
  {
   "cell_type": "markdown",
   "id": "d320b1a0",
   "metadata": {},
   "source": [
    "*Write your answer here.*"
   ]
  },
  {
   "cell_type": "markdown",
   "id": "a83e32fb",
   "metadata": {},
   "source": [
    "### Q3.6\n",
    "\n",
    "How many neighbourhoods have 7 neighbours? (You can run some code to help you answer this question.)"
   ]
  },
  {
   "cell_type": "markdown",
   "id": "bea8723a",
   "metadata": {},
   "source": [
    "*Write your answer here.*"
   ]
  },
  {
   "cell_type": "markdown",
   "id": "b00b4cb2",
   "metadata": {},
   "source": [
    "### Q3.7\n",
    "\n",
    "The below code calculates the Moran's I statistic for the number of assaults in Toronto in 2023.\n",
    "Interpret the Moran's I value and p-value displayed when the cell is run."
   ]
  },
  {
   "cell_type": "code",
   "execution_count": null,
   "id": "18b54180",
   "metadata": {},
   "outputs": [],
   "source": [
    "# Run this code but do not modify it\n",
    "\n",
    "mi_assaults = esda.Moran(toronto_crime_2024['ASSAULT_2023'], w)\n",
    "\n",
    "print(f\"The Moran's I value is: {mi_assaults.I}\")\n",
    "print(f\"The p-value of this Moran's I value is: {mi_assaults.p_sim}\")"
   ]
  },
  {
   "cell_type": "markdown",
   "id": "c0245131",
   "metadata": {},
   "source": [
    "*Write your answer here.*"
   ]
  },
  {
   "cell_type": "markdown",
   "id": "d63c1cf4",
   "metadata": {},
   "source": [
    "### Q3.8\n",
    "\n",
    "The below code calculates the local indicators of spatial autocorrelation (LISA) statistic. In the Moran Local Scatterplot, how would you describe the spatial context of neighbourhoods with points in the lower left quadrant (quadrant 3)?"
   ]
  },
  {
   "cell_type": "code",
   "execution_count": null,
   "id": "532b547e",
   "metadata": {},
   "outputs": [],
   "source": [
    "# Run this cell but do not modify it\n",
    "\n",
    "lisa = esda.Moran_Local(toronto_crime_2024['ASSAULT_2023'], w)\n",
    "splot.esda.plot_local_autocorrelation(lisa, toronto_crime_2024, 'ASSAULT_2023')"
   ]
  },
  {
   "cell_type": "markdown",
   "id": "0bb5225a",
   "metadata": {},
   "source": [
    "*Write your answer here.*"
   ]
  },
  {
   "cell_type": "markdown",
   "id": "405a5261",
   "metadata": {},
   "source": [
    "### Q3.9\n",
    "\n",
    "Finally, you have been asked to interpret a model that the police think may help them identify where assaults are occuring. The model estimates the number of assaults using neighbourhood population (`POPULATION_2023`) and the number of robberies (`ROBBERY_2023`) as independent variables in a multivariate regression.\n",
    "\n",
    "First, the model is created, fitted, and stored in `regmod_fit`."
   ]
  },
  {
   "cell_type": "code",
   "execution_count": null,
   "id": "cd3e2656",
   "metadata": {},
   "outputs": [],
   "source": [
    "# Run this cell but do not modify it\n",
    "regmod_fit = ols('ASSAULT_2023 ~ POPULATION_2023 + ROBBERY_2023', data=toronto_crime_2024).fit()"
   ]
  },
  {
   "cell_type": "markdown",
   "id": "3f40ba88",
   "metadata": {},
   "source": [
    "#### Q3.9.1\n",
    "\n",
    "Calculate the r-squared and store the  r-squared value in a variable called `rsquared`."
   ]
  },
  {
   "cell_type": "code",
   "execution_count": null,
   "id": "038904af",
   "metadata": {},
   "outputs": [],
   "source": [
    "# Write your code here\n"
   ]
  },
  {
   "cell_type": "markdown",
   "id": "fbea9afa",
   "metadata": {},
   "source": [
    "#### Q3.9.2\n",
    "\n",
    "Now the analyst produces a table to inspect the model coefficients and significance levels.\n",
    "What are the values of $a$, $b_1$, and $b_2$ in the regression equation that was calculated?\n",
    "\n",
    "$\\text{ASSULT_2023} = a + b_1 \\times \\text{POPULATION} + b_2 \\times \\text{ROBBERY_2023}$"
   ]
  },
  {
   "cell_type": "code",
   "execution_count": null,
   "id": "ff0aa349",
   "metadata": {},
   "outputs": [],
   "source": [
    "# Run this code but do not modify it\n",
    "regmod_summary = regmod_fit.summary()\n",
    "\n",
    "regmod_summary.tables[1]"
   ]
  },
  {
   "cell_type": "markdown",
   "id": "e107b65a",
   "metadata": {},
   "source": [
    "*Write your answer here.*"
   ]
  },
  {
   "cell_type": "markdown",
   "id": "9c333b11",
   "metadata": {},
   "source": [
    "#### Q3.9.3\n",
    "\n",
    "According to the model, when there is one extra robbery in a neighbourhood, how many extra assaults would we expect (holding the population constant)?"
   ]
  },
  {
   "cell_type": "markdown",
   "id": "c84bfa47",
   "metadata": {},
   "source": [
    "*Write your answer here*"
   ]
  },
  {
   "cell_type": "markdown",
   "id": "e21c0d77",
   "metadata": {},
   "source": [
    "### Q3.10\n",
    "\n",
    "Consider the function `stat_function` defined in the code cell below."
   ]
  },
  {
   "cell_type": "code",
   "execution_count": null,
   "id": "4135b16b",
   "metadata": {},
   "outputs": [],
   "source": [
    "# Run this cell but do not modify it\n",
    "def stat_function(data):\n",
    "    \n",
    "    np.random.seed(int(str(student_number)[-3::]))\n",
    "\n",
    "    list_of_nums = []\n",
    "    \n",
    "    for _ in range(3000):\n",
    "        y = data.sample(frac=1, replace=True).mean()\n",
    "        list_of_nums.append(y)\n",
    "    \n",
    "    p = plt.hist(list_of_nums, bins=20)\n",
    "    \n",
    "    plt.show(p)\n",
    "\n",
    "    A = np.percentile(list_of_nums, 5.0)\n",
    "\n",
    "    B = np.percentile(list_of_nums, 95.0)\n",
    "\n",
    "    print(f'A is equal to {A} and B is equal to {B}')\n",
    "\n",
    "    return A, B"
   ]
  },
  {
   "cell_type": "markdown",
   "id": "f0f6e979",
   "metadata": {},
   "source": [
    "#### Q3.10.1\n",
    "\n",
    "Call `stat_function` on the column `ASSAULT_2023` in `toronto_crime_2024`. Store the return value in a variable `stat_function_result`.\n",
    "\n",
    "You should also see a histogram displayed."
   ]
  },
  {
   "cell_type": "code",
   "execution_count": null,
   "id": "42b42f2f",
   "metadata": {},
   "outputs": [],
   "source": [
    "# Write your code here\n"
   ]
  },
  {
   "cell_type": "markdown",
   "id": "610e5c9d",
   "metadata": {},
   "source": [
    "#### Q3.10.2\n",
    "\n",
    "Answer the questions below using the output from your code in the previous cell.\n",
    "\n",
    "1) What is represented in the histogram?\n",
    "\n",
    "2) Give a brief interpretation of the values of `A` and `B` defined inside the `stat_function` code. Briefly explain your reasoning."
   ]
  },
  {
   "cell_type": "markdown",
   "id": "b3bb3641",
   "metadata": {},
   "source": [
    "*Write your answer here.*"
   ]
  },
  {
   "cell_type": "markdown",
   "id": "820c5816",
   "metadata": {},
   "source": [
    "## How to Submit the Final Exam\n",
    "\n",
    "1. Download this notebook to your computer and save it as `ggr274_final_exam.ipynb`.\n",
    "2. Log in here: https://markus-ds.teach.cs.toronto.edu.\n",
    "3. Submit the downloaded file to `final-exam: Final Exam`.\n",
    "    You do *not* need to submit the any of the dataset files.\n",
    "\n",
    "**Note**: MarkUs will accept multiple submissions, so of you have submitted early and would like to make changes and resubmit *before the exam's end time*, you absolutely can!"
   ]
  }
 ],
 "metadata": {
  "jupytext": {
   "formats": "ipynb,md:myst"
  },
  "kernelspec": {
   "display_name": "Python 3 (ipykernel)",
   "language": "python",
   "name": "python3"
  },
  "language_info": {
   "codemirror_mode": {
    "name": "ipython",
    "version": 3
   },
   "file_extension": ".py",
   "mimetype": "text/x-python",
   "name": "python",
   "nbconvert_exporter": "python",
   "pygments_lexer": "ipython3",
   "version": "3.8.8"
  },
  "latex_envs": {
   "LaTeX_envs_menu_present": true,
   "autoclose": false,
   "autocomplete": false,
   "bibliofile": "biblio.bib",
   "cite_by": "apalike",
   "current_citInitial": 1,
   "eqLabelWithNumbers": true,
   "eqNumInitial": 1,
   "hotkeys": {
    "equation": "Ctrl-E",
    "itemize": "Ctrl-I"
   },
   "labels_anchors": false,
   "latex_user_defs": false,
   "report_style_numbering": false,
   "user_envs_cfg": false
  }
 },
 "nbformat": 4,
 "nbformat_minor": 5
}
